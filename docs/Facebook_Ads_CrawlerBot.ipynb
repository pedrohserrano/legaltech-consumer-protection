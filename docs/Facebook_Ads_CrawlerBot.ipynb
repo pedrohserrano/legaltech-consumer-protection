{
 "cells": [
  {
   "cell_type": "markdown",
   "metadata": {},
   "source": [
    "# Facebook Ads CrawlerBot\n",
    "---\n",
    "\n",
    "\n",
    "**The following notebook contains the Python script that simulates user-agent browsing behaviour in the Facebook news feed. This script is based on the Selenium web-drivers family and aims to scrape and collect ads in screenshots and raw HTML Ad source code. This is aimed to scale up data collection and conduct investigations in ads practices.**  \n",
    "\n",
    "<img src=\"assets/fb1.png\" alt=\"drawing\" width=\"600\"/>"
   ]
  },
  {
   "cell_type": "markdown",
   "metadata": {},
   "source": [
    "### General requirements\n",
    "The user must have access to Facebook accounts that represent a consumer trait. Therefore some activity on it to gather relevant information and attract advertisements.\n",
    "Activity means:\n",
    "1. Friends\n",
    "2. Likes\n",
    "3. Some activity on search engines. FB also captures data (from cookies) that the user types in other tabs.\n",
    "4. Groups\n",
    "5. Followings/Followers\n",
    "\n",
    "If the user has a dedicated persona-trained account, more information can be captured.\n",
    "The notebook is completely automated to run in the background depending on the parameters. For example, you may change the number of scrolls.\n",
    "\n",
    "### Technical requirement\n",
    "The user needs to be familiar with Python and selenium framework in order to run this notebook. Also, some HTML, JavaScript and XML knowledge is required.\n",
    "\n",
    "### How to run this file?\n",
    "You can run this notebook on Google Colab or on your local machine (Jupyter Notebook). It doesn't require any special configuration or system configuration. But if you're running it on Google Colab, make sure to follow these instructions:\n",
    "\n",
    "https://stackoverflow.com/questions/51046454/how-can-we-use-selenium-webdriver-in-colab-research-google-com"
   ]
  },
  {
   "cell_type": "code",
   "execution_count": 1,
   "metadata": {},
   "outputs": [],
   "source": [
    "# Import selenium webdriver\n",
    "from selenium import webdriver\n",
    "from selenium.webdriver.common.keys import Keys\n",
    "from selenium.webdriver.support import expected_conditions as EC\n",
    "from selenium.webdriver.common.by import By\n",
    "from selenium.webdriver.support.wait import WebDriverWait\n",
    "import time, os, wget\n",
    "\n",
    "# To parse URLs from anchor tags\n",
    "from urllib.parse import unquote\n",
    "\n",
    "import pandas as pd\n",
    "\n",
    "# To clean and beautify output obtained \n",
    "from lxml import html\n",
    "from bs4 import BeautifulSoup\n",
    "import os.path"
   ]
  },
  {
   "cell_type": "markdown",
   "metadata": {},
   "source": [
    "## Initialise chrome driver\n",
    "If you don't have one, you can download it easily from https://chromedriver.chromium.org/downloads according to the version of your Chromer browser"
   ]
  },
  {
   "cell_type": "code",
   "execution_count": 2,
   "metadata": {},
   "outputs": [],
   "source": [
    "chrome_options = webdriver.ChromeOptions()\n",
    "prefs = {\"profile.default_content_setting_values.notifications\" : 2}\n",
    "chrome_options.add_experimental_option(\"prefs\", prefs)"
   ]
  },
  {
   "cell_type": "code",
   "execution_count": null,
   "metadata": {},
   "outputs": [],
   "source": [
    "# Specify the path to chromedriver.exe\n",
    "driver = webdriver.Chrome('chromedriver.exe', chrome_options=chrome_options)\n",
    "\n",
    "# Open the webpage\n",
    "driver.get(\"https://www.facebook.com\")"
   ]
  },
  {
   "cell_type": "code",
   "execution_count": null,
   "metadata": {},
   "outputs": [],
   "source": [
    "# Target login area. You can get this by going throught page source\n",
    "username = WebDriverWait(driver, 10).until(EC.element_to_be_clickable((By.CSS_SELECTOR, \"input[name='email']\")))\n",
    "password = WebDriverWait(driver, 10).until(EC.element_to_be_clickable((By.CSS_SELECTOR, \"input[name='pass']\")))\n",
    "\n",
    "# Enter your FB username and password\n",
    "username.clear()\n",
    "username.send_keys(\"your_email_here\")\n",
    "password.clear()\n",
    "password.send_keys(\"your_password_here\")\n",
    "\n",
    "# Target the login button and click it\n",
    "button = WebDriverWait(driver, 2).until(EC.element_to_be_clickable((By.CSS_SELECTOR, \"button[type='submit']\"))).click()"
   ]
  },
  {
   "cell_type": "markdown",
   "metadata": {},
   "source": [
    "After executing the above script the user shall be logged in\n",
    "#### Note: If you have TFA enabled on your FB account, you'll have to manually allow the request to login"
   ]
  },
  {
   "cell_type": "markdown",
   "metadata": {},
   "source": [
    "Content can be:\n",
    "1.\tPersonal post\n",
    "2.\tShared post\n",
    "3.\tFriend suggestions (People you may know)\n",
    "4.\tSponsored ads\n",
    "5.\t\"Suggestion/Suggested for you\" posts from FB\n",
    "6.\t\"Events you may like\" posts from FB\n",
    "7.\tFeelings posts (feeling exhausted, feeling happy)\n",
    "8.\t\"Suggested page to follow\" posts from FB\n",
    "9.\tPosts from groups\n",
    "10.\tPosts about someone commenting on someone's photo/posts/video\n",
    "11.\tSomeone shared a memory\n",
    "12.\tSomeone is with someone\n",
    "13.\tPosts from pages\n",
    "14.\tAnd so on\n",
    "\n",
    "Such varied criteria could be problematic when targeting for ads only, as ads can be found in links, comments, or as a post itself either from pages or people.\n",
    "Moreover, each content has a different DIV structure \n",
    "\n",
    "On FB, everything gets loaded inside DIV tags. There is the main DIV tag with the role attribute \"feed\". Inside this div, content have their individual DIV tags, namely \"FeedUnit_0\", \"FeedUnit_1\", \"FeedUnit_n\" and so on.\n",
    "Inside each FeedUnit, there are fixed classes given to each element. Element refers to anything that is text or clickable. We're interested in heading, user, link of the user, link of the post, and image/video if present. Here, the user refers to either an actual user or a page or an ad.\n",
    "\n",
    "There are two ways to get the content\n",
    "#### 1.\tYou can get individual links, images, and headings from each DIV tag according to its classes.\n",
    "\n",
    "Advantages:\n",
    "\n",
    "I.\tIt's fast.\n",
    "\n",
    "II.\tNo need to process further when all the information is obtained.\n",
    "\n",
    "Disadvantages: \n",
    "\n",
    "I.\tThere is no fixed way for FB to show you content. Thus, you have to keep the combination of the templates for all the possible content combinations, which becomes hectic, and a slight change in any of the class names become cumbersome to manage.\n",
    "\n",
    "II.\tThere is no control to filter the content. You have to sort it out manually.\n",
    "\n",
    "#### 2.\tYou can get the entire main DIV structure and extract links, images, and headings using XML/JSON technology.\n",
    "\n",
    "Advantages:\n",
    "\n",
    "I.\tThe DIV structure is much cleaner.\n",
    "\n",
    "II.\tIt's swift.\n",
    "\n",
    "Disadvantages:\n",
    "\n",
    "I.\tAn additional step (data cleaning and formatting) is involved in getting the content.\n"
   ]
  },
  {
   "cell_type": "markdown",
   "metadata": {},
   "source": [
    "#### Facebook home page (after logging in), by default, has advertisements on the right side of the page.\n",
    "#### Observation: They randomly change as you keep scrolling, but sometimes, they don't change at all."
   ]
  },
  {
   "cell_type": "code",
   "execution_count": null,
   "metadata": {},
   "outputs": [],
   "source": [
    "# Target right side panel for the links\n",
    "#anchors = driver.find_elements_by_tag_name('div.cxgpxx05 div span div div a')\n",
    "#anchors = [a.get_attribute('href') for a in anchors]"
   ]
  },
  {
   "cell_type": "markdown",
   "metadata": {},
   "source": [
    "## Way 1"
   ]
  },
  {
   "cell_type": "code",
   "execution_count": null,
   "metadata": {},
   "outputs": [],
   "source": [
    "# Wait 5 seconds to allow your new page to load\n",
    "time.sleep(5)\n",
    "\n",
    "driver.get(\"https://www.facebook.com/\")\n",
    "\n",
    "scroll = 10\n",
    "for j in range(0, scroll):\n",
    "    # Scroll one time entire height of the screen\n",
    "    driver.execute_script(\"window.scrollTo(0, document.body.scrollHeight);\")\n",
    "    # Wait for 5 seconds to load everything\n",
    "    time.sleep(5)\n",
    "    \n",
    "anchors = driver.find_elements_by_tag_name('div.pedkr2u6 div div div.l9j0dhe7 div.l9j0dhe7 div div div div.j83agx80 div.rq0escxv div.j83agx80 div.l9j0dhe7 div div div div div.pybr56ya div.oi9244e8 span.nc684nl6 a')\n",
    "# Get only href attribute of anchor tag\n",
    "anchors = [a.get_attribute('href') for a in anchors]\n",
    "\n",
    "fb_page_link = driver.find_elements_by_tag_name('div.pedkr2u6 div.buofh1pr h4 a')\n",
    "fb_page_link = [pl.get_attribute('href') for pl in fb_page_link]\n",
    "\n",
    "content_class = driver.find_elements_by_tag_name('div.pedkr2u6 div.buofh1pr span a')\n",
    "content_class = [cc.text for cc in content_class]\n",
    "\n",
    "headings = driver.find_elements_by_tag_name('div.pedkr2u6 div.buofh1pr h4 a strong span')\n",
    "headings = [h.text for h in headings]\n",
    "\n",
    "# All the links are preceded with an FB URL. We get rid of it by\n",
    "anchors = [a for a in anchors if str(a).startswith(\"https://l.facebook.com/l.php?u=\")]\n",
    "\n",
    "print('Found ' + str(len(anchors)))"
   ]
  },
  {
   "cell_type": "code",
   "execution_count": null,
   "metadata": {},
   "outputs": [],
   "source": [
    "links = []\n",
    "word = 'utm'\n",
    "# UTM paramter is used in almost all of the ads for companies to make revenue and detect the source of the hit. Thus, targeting\n",
    "# UTM paramter is useful.\n",
    "\n",
    "for i in anchors:\n",
    "    x = i[31:]\n",
    "    x = unquote(x)\n",
    "    if (word.find(x) == -1):\n",
    "        links.append(x)\n",
    "\n",
    "df = pd.DataFrame(list(links))\n",
    "df\n",
    "\n",
    "# We get following output of the links"
   ]
  },
  {
   "cell_type": "markdown",
   "metadata": {},
   "source": [
    "<img src=\"assets/image1.png\" alt=\"drawing\" width=\"500\"/>"
   ]
  },
  {
   "cell_type": "markdown",
   "metadata": {},
   "source": [
    "And the same way, we get content_class and fb_page_link. But as mentioned earlier, if the content jumbled up, and it will certainly be, distinguishing between the heading and links and classes becomes almost impossible. Thus, \"Way 2\" Is preferred."
   ]
  },
  {
   "cell_type": "markdown",
   "metadata": {},
   "source": [
    "## Way 2"
   ]
  },
  {
   "cell_type": "code",
   "execution_count": null,
   "metadata": {},
   "outputs": [],
   "source": [
    "# Wait 5 seconds to allow your new page to load\n",
    "time.sleep(5)\n",
    "\n",
    "driver.get(\"https://www.facebook.com/\")\n",
    "\n",
    "scroll = 10\n",
    "for j in range(0, scroll):\n",
    "    # Take the screenshot, just in case, if there is an ad\n",
    "    driver.save_screenshot(\"screenshot\"+str(j)+\".png\")\n",
    "    # Scroll one time entire height of the screen\n",
    "    driver.execute_script(\"window.scrollTo(0, document.body.scrollHeight);\")\n",
    "    # Wait for 5 seconds to load everything\n",
    "    time.sleep(5)\n",
    "\n",
    "\n",
    "# Get all the contents of the main DIV tag. The main DIV tag has following classes\n",
    "fb_code = driver.find_element_by_xpath(\"//div[@class='pedkr2u6 tn0ko95a pnx7fd3z']\")\n",
    "fb_code = fb_code.get_attribute('innerHTML')\n",
    "\n",
    "# Save the contents to an HTML file for further processing\n",
    "html_file = 'fb_code1.html';\n",
    "check_file_exists = os.path.isfile(html_file)\n",
    "if(check_file_exists):\n",
    "    with open(html_file, \"r+\", encoding=\"utf-8\") as f:\n",
    "        data = f.read()\n",
    "        f.seek(0)\n",
    "        f.write(fb_code)\n",
    "        f.truncate()\n",
    "        f.close()\n",
    "else:\n",
    "    f = open(\"fb_code1.html\", \"x\", encoding=\"utf-8\")\n",
    "    f.write(fb_code)\n",
    "    f.close()\n",
    "\n",
    "\n",
    "# Correct the encoding and beautify the HTML file\n",
    "contents = ''\n",
    "with open(html_file, 'r', encoding=\"utf-8\") as f:\n",
    "    contents = f.read()\n",
    "    f.close()\n",
    "    \n",
    "contents = BeautifulSoup(contents, 'lxml')\n",
    "\n",
    "with open(html_file, \"r+\", encoding=\"utf-8\") as f:\n",
    "    data = f.read()\n",
    "    f.seek(0)\n",
    "    f.write(contents.prettify())\n",
    "    f.truncate()\n",
    "    f.close()"
   ]
  },
  {
   "cell_type": "markdown",
   "metadata": {},
   "source": [
    "Once the files is saved, convert it to XML format using any online XML converter. And you'll get following structure:\n",
    "\n",
    "<img src=\"assets/image2.png\" alt=\"drawing\" width=\"700\"/>"
   ]
  },
  {
   "cell_type": "markdown",
   "metadata": {},
   "source": [
    "As you could see in the above image, each DIV content is within <//sect2> tag with a unique anchor tag id.\n",
    "\n",
    "The last <//para> tag contains \"Suggested for you\" text, indicating that the next DIV tag is either an ad or a FB suggestion for the user. That way, we can filter which block contains ad.\n",
    "\n",
    "Thus, instead of segregating the entire content, we just look for the DIV tags with the possibility of an ad, and neglect all the other information."
   ]
  }
 ],
 "metadata": {
  "kernelspec": {
   "display_name": "Python 3",
   "language": "python",
   "name": "python3"
  },
  "language_info": {
   "codemirror_mode": {
    "name": "ipython",
    "version": 3
   },
   "file_extension": ".py",
   "mimetype": "text/x-python",
   "name": "python",
   "nbconvert_exporter": "python",
   "pygments_lexer": "ipython3",
   "version": "3.8.8"
  }
 },
 "nbformat": 4,
 "nbformat_minor": 4
}
