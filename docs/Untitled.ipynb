{
 "cells": [
  {
   "cell_type": "code",
   "execution_count": null,
   "id": "f973dc80",
   "metadata": {},
   "outputs": [],
   "source": []
  },
  {
   "cell_type": "code",
   "execution_count": 1,
   "id": "ef25d3b0",
   "metadata": {},
   "outputs": [],
   "source": [
    "import yaml\n",
    "import requests\n",
    "import csv\n",
    "import re\n",
    "from tqdm import tqdm\n",
    "from itertools import product\n",
    "\n",
    "with open('config.yaml', 'r') as f:\n",
    "    config = yaml.safe_load(f)\n",
    "\n",
    "with open('TOKEN.txt') as f:\n",
    "    token = f.readlines()\n",
    "\n",
    "assert config['search_total'] % config['page_total'] == 0, \\\n",
    "    \"search_total should be a multiple of page_total.\"\n",
    "\n"
   ]
  },
  {
   "cell_type": "code",
   "execution_count": 3,
   "id": "952f9d13",
   "metadata": {},
   "outputs": [
    {
     "data": {
      "text/plain": [
       "{'page_total': 10,\n",
       " 'search_total': 100,\n",
       " 'ad_active_status': 'ALL',\n",
       " 'search_terms': '.',\n",
       " 'query_fields': ['ad_creation_time',\n",
       "  'ad_creative_body',\n",
       "  'ad_creative_link_caption',\n",
       "  'ad_creative_link_description',\n",
       "  'ad_creative_link_title',\n",
       "  'ad_delivery_start_time',\n",
       "  'ad_delivery_stop_time',\n",
       "  'ad_snapshot_url',\n",
       "  'demographic_distribution',\n",
       "  'funding_entity',\n",
       "  'impressions',\n",
       "  'page_id',\n",
       "  'page_name',\n",
       "  'region_distribution',\n",
       "  'spend',\n",
       "  'currency'],\n",
       " 'output_fields': ['ad_id',\n",
       "  'page_id',\n",
       "  'page_name',\n",
       "  'ad_creative_body',\n",
       "  'ad_creative_link_caption',\n",
       "  'ad_creative_link_description',\n",
       "  'ad_creative_link_title',\n",
       "  'ad_delivery_start_time',\n",
       "  'ad_delivery_stop_time',\n",
       "  'funding_entity',\n",
       "  'impressions_min',\n",
       "  'impressions_max',\n",
       "  'spend_min',\n",
       "  'spend_max',\n",
       "  'ad_url',\n",
       "  'currency'],\n",
       " 'demo_fields': ['ad_id', 'age', 'gender', 'percentage'],\n",
       " 'region_fields': ['ad_id', 'region', 'percentage'],\n",
       " 'demo_ages': ['18-24', '25-34', '35-44', '45-54', '55-64', '65+'],\n",
       " 'demo_genders': ['male', 'female', 'unknown'],\n",
       " 'regions': ['Noord-Holland',\n",
       "  'Zuid-Holland',\n",
       "  'Gelderland',\n",
       "  'North Brabant',\n",
       "  'Utrecht',\n",
       "  'Groningen',\n",
       "  'Overijssel',\n",
       "  'Flevoland',\n",
       "  'Limburg',\n",
       "  'Friesland',\n",
       "  'Zeeland']}"
      ]
     },
     "execution_count": 3,
     "metadata": {},
     "output_type": "execute_result"
    }
   ],
   "source": [
    "config"
   ]
  },
  {
   "cell_type": "code",
   "execution_count": 4,
   "id": "cb50d662",
   "metadata": {},
   "outputs": [],
   "source": [
    "params = {\n",
    "    'access_token': token,\n",
    "    'ad_type': 'POLITICAL_AND_ISSUE_ADS',\n",
    "    'ad_reached_countries': \"['NL']\",\n",
    "    'ad_active_status': config['ad_active_status'],\n",
    "    'search_terms': config.get('search_terms'),\n",
    "    'search_page_ids': \",\".join(config.get('search_page_ids', [])),\n",
    "    'fields': \",\".join(config['query_fields']),\n",
    "    'limit': config['page_total']\n",
    "}\n",
    "\n",
    "REGIONS = set(config['regions'])\n",
    "DEMOS = set(product(config['demo_ages'], config['demo_genders']))\n",
    "\n"
   ]
  },
  {
   "cell_type": "code",
   "execution_count": 9,
   "id": "75e2f79c",
   "metadata": {},
   "outputs": [
    {
     "data": {
      "text/plain": [
       "25"
      ]
     },
     "execution_count": 9,
     "metadata": {},
     "output_type": "execute_result"
    }
   ],
   "source": [
    "f1 = open('data/fb_ads.csv', 'w')\n",
    "w1 = csv.DictWriter(f1, fieldnames=config['output_fields'],\n",
    "                    extrasaction='ignore')\n",
    "w1.writeheader()\n",
    "\n",
    "f2 = open('data/fb_ads_demos.csv', 'w')\n",
    "w2 = csv.DictWriter(f2, fieldnames=config['demo_fields'],\n",
    "                    extrasaction='ignore')\n",
    "w2.writeheader()\n",
    "\n",
    "f3 = open('data/fb_ads_regions.csv', 'w')\n",
    "w3 = csv.DictWriter(f3, fieldnames=config['region_fields'],\n",
    "                    extrasaction='ignore')\n",
    "w3.writeheader()\n",
    "\n"
   ]
  },
  {
   "cell_type": "code",
   "execution_count": 10,
   "id": "c4c87424",
   "metadata": {},
   "outputs": [
    {
     "name": "stderr",
     "output_type": "stream",
     "text": [
      "\r",
      "  0%|          | 0/100 [00:00<?, ?it/s]"
     ]
    }
   ],
   "source": [
    "pbar = tqdm(total=config['search_total'], smoothing=0)\n",
    "\n"
   ]
  },
  {
   "cell_type": "code",
   "execution_count": 14,
   "id": "1899be3e",
   "metadata": {},
   "outputs": [
    {
     "data": {
      "text/plain": [
       "10"
      ]
     },
     "execution_count": 14,
     "metadata": {},
     "output_type": "execute_result"
    }
   ],
   "source": [
    "int(config['search_total'] / config['page_total'])"
   ]
  },
  {
   "cell_type": "code",
   "execution_count": 18,
   "id": "110e8782",
   "metadata": {},
   "outputs": [],
   "source": [
    "r = requests.get('https://graph.facebook.com/v11.0/ads_archive',\n",
    "                 params=params)"
   ]
  },
  {
   "cell_type": "code",
   "execution_count": 19,
   "id": "ada29ba0",
   "metadata": {},
   "outputs": [],
   "source": [
    "data = r.json()"
   ]
  },
  {
   "cell_type": "code",
   "execution_count": 31,
   "id": "ab3baca8",
   "metadata": {},
   "outputs": [
    {
     "name": "stdout",
     "output_type": "stream",
     "text": [
      "ERROR {'message': 'Error validating access token: Session has expired on Saturday, 17-Jul-21 16:00:00 PDT. The current time is Monday, 19-Jul-21 05:55:27 PDT.', 'type': 'OAuthException', 'code': 190, 'error_subcode': 463, 'fbtrace_id': 'A6pbxxpJ89klEEWMoNxxyJF'}\n"
     ]
    }
   ],
   "source": [
    "if data['error']['code'] == 190:\n",
    "    print('ERROR', data['error'])"
   ]
  },
  {
   "cell_type": "code",
   "execution_count": 30,
   "id": "17b8c9cc",
   "metadata": {},
   "outputs": [
    {
     "data": {
      "text/plain": [
       "{'error': {'message': 'Error validating access token: Session has expired on Saturday, 17-Jul-21 16:00:00 PDT. The current time is Monday, 19-Jul-21 05:55:27 PDT.',\n",
       "  'type': 'OAuthException',\n",
       "  'code': 190,\n",
       "  'error_subcode': 463,\n",
       "  'fbtrace_id': 'A6pbxxpJ89klEEWMoNxxyJF'}}"
      ]
     },
     "execution_count": 30,
     "metadata": {},
     "output_type": "execute_result"
    }
   ],
   "source": [
    "data"
   ]
  },
  {
   "cell_type": "code",
   "execution_count": 28,
   "id": "ac807642",
   "metadata": {},
   "outputs": [
    {
     "data": {
      "text/plain": [
       "{'error': {'message': 'Error validating access token: Session has expired on Saturday, 17-Jul-21 16:00:00 PDT. The current time is Monday, 19-Jul-21 05:55:27 PDT.',\n",
       "  'type': 'OAuthException',\n",
       "  'code': 190,\n",
       "  'error_subcode': 463,\n",
       "  'fbtrace_id': 'A6pbxxpJ89klEEWMoNxxyJF'}}"
      ]
     },
     "execution_count": 28,
     "metadata": {},
     "output_type": "execute_result"
    }
   ],
   "source": [
    "data"
   ]
  },
  {
   "cell_type": "code",
   "execution_count": 33,
   "id": "14bcd63f",
   "metadata": {},
   "outputs": [
    {
     "name": "stdout",
     "output_type": "stream",
     "text": [
      "ERROR {'message': 'Error validating access token: Session has expired on Saturday, 17-Jul-21 16:00:00 PDT. The current time is Monday, 19-Jul-21 06:01:04 PDT.', 'type': 'OAuthException', 'code': 190, 'error_subcode': 463, 'fbtrace_id': 'AQdhKx29w-LY3V7h-HAVR4E'}\n"
     ]
    }
   ],
   "source": [
    "r = requests.get('https://graph.facebook.com/v11.0/ads_archive',params=params)\n",
    "data = r.json()\n",
    "if data['error']['code'] == 190:\n",
    "    print('ERROR', data['error'])\n",
    "else:\n",
    "    for _ in range(int(config['search_total'] / config['page_total'])):\n",
    "        r = requests.get('https://graph.facebook.com/v11.0/ads_archive',\n",
    "                         params=params)\n",
    "        data = r.json()\n",
    "        for ad in data['data']:\n",
    "            # The ad_id is encoded in the ad snapshot URL\n",
    "            # and cannot be accessed as a normal field. (?!?!)\n",
    "\n",
    "            ad_id = re.search(r'\\d+', ad['ad_snapshot_url']).group(0)\n",
    "            ad_url = 'https://www.facebook.com/ads/library/?id=' + ad_id\n",
    "\n",
    "            # write to the unnested files\n",
    "            demo_set = set()\n",
    "            for demo in ad['demographic_distribution']:\n",
    "                demo.update({'ad_id': ad_id})\n",
    "                w2.writerow(demo)\n",
    "                demo_set.add((demo['age'], demo['gender']))\n",
    "\n",
    "            # Impute a percentage of 0\n",
    "            # for demos with insufficient data\n",
    "            unused_demos = DEMOS - demo_set\n",
    "            for demo in unused_demos:\n",
    "                w2.writerow({\n",
    "                    'ad_id': ad_id,\n",
    "                    'age': demo[0],\n",
    "                    'gender': demo[1],\n",
    "                    'percentage': 0\n",
    "                })\n",
    "\n",
    "            region_set = set()\n",
    "            for region in ad['region_distribution']:\n",
    "                region.update({'ad_id': ad_id})\n",
    "                w3.writerow(region)\n",
    "                region_set.add(region['region'])\n",
    "\n",
    "            # Impute a percentage of 0\n",
    "            # for states with insufficient data\n",
    "            unused_regions = REGIONS - region_set\n",
    "            for region in unused_regions:\n",
    "                w3.writerow({\n",
    "                    'ad_id': ad_id,\n",
    "                    'region': region,\n",
    "                    'percentage': 0\n",
    "                })\n",
    "\n",
    "            ad.update({'ad_id': ad_id,\n",
    "                       'ad_url': ad_url,\n",
    "                       'impressions_min': ad['impressions']['lower_bound'],\n",
    "                       'impressions_max': ad['impressions']['upper_bound'],\n",
    "                       'spend_min': ad['spend']['lower_bound'],\n",
    "                       'spend_max': ad['spend']['upper_bound'],\n",
    "                       })\n",
    "\n",
    "            w1.writerow(ad)\n",
    "            pbar.update()\n",
    "\n",
    "        # if we have scraped all the ads, exit\n",
    "        if 'paging' not in data:\n",
    "            break\n",
    "\n",
    "        params.update({'after': data['paging']['cursors']['after']})\n",
    "\n",
    "    f1.close()\n",
    "    f2.close()\n",
    "    f3.close()\n",
    "    pbar.close()\n"
   ]
  },
  {
   "cell_type": "code",
   "execution_count": null,
   "id": "01243ea1",
   "metadata": {},
   "outputs": [],
   "source": []
  }
 ],
 "metadata": {
  "kernelspec": {
   "display_name": "Python 3",
   "language": "python",
   "name": "python3"
  },
  "language_info": {
   "codemirror_mode": {
    "name": "ipython",
    "version": 3
   },
   "file_extension": ".py",
   "mimetype": "text/x-python",
   "name": "python",
   "nbconvert_exporter": "python",
   "pygments_lexer": "ipython3",
   "version": "3.8.8"
  }
 },
 "nbformat": 4,
 "nbformat_minor": 5
}
