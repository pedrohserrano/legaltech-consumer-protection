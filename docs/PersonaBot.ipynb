{
 "cells": [
  {
   "cell_type": "markdown",
   "metadata": {},
   "source": [
    "## Training bot"
   ]
  },
  {
   "cell_type": "code",
   "execution_count": null,
   "metadata": {},
   "outputs": [],
   "source": [
    "import pandas as pd\n",
    "websites = pd.read_excel('websites_groups.xlsx')"
   ]
  },
  {
   "cell_type": "code",
   "execution_count": null,
   "metadata": {},
   "outputs": [],
   "source": [
    "websites['Category'].unique()"
   ]
  },
  {
   "cell_type": "code",
   "execution_count": null,
   "metadata": {},
   "outputs": [],
   "source": [
    "#websites.head(20)"
   ]
  },
  {
   "cell_type": "code",
   "execution_count": null,
   "metadata": {},
   "outputs": [],
   "source": [
    "group = 'Female, LGBTQ+'\n",
    "proxies_list = websites[websites['Category'] == group]['Website'].to_list()"
   ]
  },
  {
   "cell_type": "code",
   "execution_count": null,
   "metadata": {},
   "outputs": [],
   "source": [
    "proxies_list"
   ]
  },
  {
   "cell_type": "code",
   "execution_count": null,
   "metadata": {},
   "outputs": [],
   "source": [
    "from selenium import webdriver\n",
    "from selenium.webdriver.chrome.options import Options\n",
    "chrome_options = Options()\n",
    "chrome_options.add_argument(\"--window-size=1620x1620\")\n",
    "driver = webdriver.Chrome(chrome_options=chrome_options, executable_path='./chromedriver')\n",
    "\n",
    "##------\n",
    "url = 'https://www.google.nl/'\n",
    "driver.get(url)\n",
    "driver.implicitly_wait(4)\n",
    "print(driver.current_url)\n",
    "##------\n",
    "for idx, proxy in enumerate(proxies_list):\n",
    "    url = \"'https://www.\"+str(proxy)+\"'\"\n",
    "    print(\"Learning...\", url)\n",
    "    driver.execute_script(\"window.open(\"+url+\")\")\n",
    "    driver.implicitly_wait(3)\n",
    "    driver.switch_to_window(driver.window_handles[idx+1])\n",
    "\n",
    "windows_open  = len(driver.window_handles)\n",
    "print(\"Windows open:\", windows_open)"
   ]
  },
  {
   "cell_type": "code",
   "execution_count": null,
   "metadata": {},
   "outputs": [],
   "source": [
    "# buttons\n",
    "#driver.back() \n",
    "#driver.forward()\n",
    "#driver.refresh()\n",
    "#driver.switch_to.new_window('tab')\n",
    "#driver.switch_to.new_window('window')\n",
    "#driver.close()\n",
    "#driver.switch_to.window(original_window)"
   ]
  },
  {
   "cell_type": "code",
   "execution_count": null,
   "metadata": {},
   "outputs": [],
   "source": [
    "from datetime import datetime\n",
    "sttime = datetime.now().strftime('%Y%m%d_%Hh%M_')"
   ]
  },
  {
   "cell_type": "code",
   "execution_count": null,
   "metadata": {},
   "outputs": [],
   "source": [
    "url = \"https://www.buienradar.nl/\"\n",
    "print(\"Saving...\", url)\n",
    "driver.execute_script('window.open(\"'+url+'\",\"window 100\")')\n",
    "driver.implicitly_wait(3)\n",
    "driver.switch_to_window(driver.window_handles[windows_open])\n"
   ]
  },
  {
   "cell_type": "code",
   "execution_count": null,
   "metadata": {},
   "outputs": [],
   "source": [
    "driver.save_screenshot(\"screenshots/\"+str(sttime)+str(group)+\"_buien.png\")\n",
    "print(driver.title, driver.current_window_handle)"
   ]
  },
  {
   "cell_type": "code",
   "execution_count": null,
   "metadata": {},
   "outputs": [],
   "source": [
    "url = \"https://www.msn.com/nl-nl\"\n",
    "print(\"Saving...\", url)\n",
    "driver.execute_script('window.open(\"'+url+'\",\"window 101\")')\n",
    "driver.implicitly_wait(3)\n",
    "driver.switch_to_window(driver.window_handles[windows_open+1])\n"
   ]
  },
  {
   "cell_type": "code",
   "execution_count": null,
   "metadata": {},
   "outputs": [],
   "source": [
    "driver.save_screenshot(\"screenshots/\"+str(sttime)+str(group)+\"_msn.png\")\n",
    "print(driver.title, driver.current_window_handle)\n",
    "#we have to reload after cookies acceptance"
   ]
  },
  {
   "cell_type": "code",
   "execution_count": null,
   "metadata": {},
   "outputs": [],
   "source": [
    "url = \"https://www.bbc.com/news\"\n",
    "print(\"Saving...\", url)\n",
    "driver.execute_script('window.open(\"'+url+'\",\"window 102\")')\n",
    "driver.implicitly_wait(3)\n",
    "driver.switch_to_window(driver.window_handles[windows_open+2])"
   ]
  },
  {
   "cell_type": "code",
   "execution_count": null,
   "metadata": {},
   "outputs": [],
   "source": [
    "driver.save_screenshot(\"screenshots/\"+str(sttime)+str(group)+\"_bbc.png\")\n",
    "print(driver.title, driver.current_window_handle)"
   ]
  },
  {
   "cell_type": "code",
   "execution_count": null,
   "metadata": {},
   "outputs": [],
   "source": [
    "url = \"https://www.weerplaza.nl/\"\n",
    "print(\"Saving...\", url)\n",
    "driver.execute_script('window.open(\"'+url+'\",\"window 103\")')\n",
    "driver.implicitly_wait(3)\n",
    "driver.switch_to_window(driver.window_handles[windows_open+3])"
   ]
  },
  {
   "cell_type": "code",
   "execution_count": null,
   "metadata": {},
   "outputs": [],
   "source": [
    "driver.save_screenshot(\"screenshots/\"+str(sttime)+str(group)+\"_weerplaza.png\")\n",
    "print(driver.title, driver.current_window_handle)"
   ]
  },
  {
   "cell_type": "code",
   "execution_count": null,
   "metadata": {},
   "outputs": [],
   "source": [
    "url = \"https://www.nu.nl/\"\n",
    "print(\"Saving...\", url)\n",
    "driver.execute_script('window.open(\"'+url+'\",\"window 104\")')\n",
    "driver.implicitly_wait(3)\n",
    "driver.switch_to_window(driver.window_handles[windows_open+4])"
   ]
  },
  {
   "cell_type": "code",
   "execution_count": null,
   "metadata": {},
   "outputs": [],
   "source": [
    "driver.save_screenshot(\"screenshots/\"+str(sttime)+str(group)+\"_nunl.png\")\n",
    "print(driver.title, driver.current_window_handle)"
   ]
  },
  {
   "cell_type": "code",
   "execution_count": null,
   "metadata": {},
   "outputs": [],
   "source": [
    "url = \"https://google.nl/search?q=fiets\"\n",
    "print(\"Saving...\", url)\n",
    "driver.execute_script('window.open(\"'+url+'\",\"window 105\")')\n",
    "driver.implicitly_wait(3)\n",
    "driver.switch_to_window(driver.window_handles[windows_open+5])"
   ]
  },
  {
   "cell_type": "code",
   "execution_count": null,
   "metadata": {},
   "outputs": [],
   "source": [
    "driver.save_screenshot(\"screenshots/\"+str(sttime)+str(group)+\"_google_fiets.png\")\n",
    "print(driver.title, driver.current_window_handle)"
   ]
  },
  {
   "cell_type": "code",
   "execution_count": null,
   "metadata": {},
   "outputs": [],
   "source": [
    "url = \"https://google.nl/search?q=nieuws\"\n",
    "print(\"Saving...\", url)\n",
    "driver.execute_script('window.open(\"'+url+'\",\"window 106\")')\n",
    "driver.implicitly_wait(3)\n",
    "driver.switch_to_window(driver.window_handles[windows_open+6])"
   ]
  },
  {
   "cell_type": "code",
   "execution_count": null,
   "metadata": {},
   "outputs": [],
   "source": [
    "driver.save_screenshot(\"screenshots/\"+str(sttime)+str(group)+\"_google_nieuws.png\")\n",
    "print(driver.title, driver.current_window_handle)"
   ]
  },
  {
   "cell_type": "code",
   "execution_count": null,
   "metadata": {},
   "outputs": [],
   "source": [
    "url = \"https://google.nl/search?q=kleding+online+kopen\"\n",
    "print(\"Saving...\", url)\n",
    "driver.execute_script('window.open(\"'+url+'\",\"window 107\")')\n",
    "driver.implicitly_wait(3)\n",
    "driver.switch_to_window(driver.window_handles[windows_open+7])"
   ]
  },
  {
   "cell_type": "code",
   "execution_count": null,
   "metadata": {},
   "outputs": [],
   "source": [
    "driver.save_screenshot(\"screenshots/\"+str(sttime)+str(group)+\"_google_kleding.png\")\n",
    "print(driver.title, driver.current_window_handle)"
   ]
  }
 ],
 "metadata": {
  "kernelspec": {
   "display_name": "Python 3",
   "language": "python",
   "name": "python3"
  },
  "language_info": {
   "codemirror_mode": {
    "name": "ipython",
    "version": 3
   },
   "file_extension": ".py",
   "mimetype": "text/x-python",
   "name": "python",
   "nbconvert_exporter": "python",
   "pygments_lexer": "ipython3",
   "version": "3.7.6"
  }
 },
 "nbformat": 4,
 "nbformat_minor": 4
}