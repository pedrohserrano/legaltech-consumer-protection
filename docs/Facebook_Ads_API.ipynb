{
  "cells": [
    {
      "cell_type": "markdown",
      "source": [
        "## Ads Library - Python"
      ],
      "metadata": {}
    },
    {
      "cell_type": "code",
      "source": [
        "import facebook\n",
        "import requests\n",
        "import urllib3\n",
        "import json\n",
        "import pandas as pd\n",
        "import csv"
      ],
      "outputs": [],
      "execution_count": 1,
      "metadata": {}
    },
    {
      "cell_type": "code",
      "source": [
        "def main():\n",
        "    token = \"TOKEN\"\n",
        "    graph = facebook.GraphAPI(token)\n",
        "    #define parameters for request\n",
        "    profile = graph.get_object('ads_archive',fields='page_id,page_name,ad_snapshot_url,ad_creative_body,region_distribution,demographic_distribution',\n",
        "                               search_terms='klimaat',\n",
        "                               ad_type='POLITICAL_AND_ISSUE_ADS',\n",
        "                               ad_reached_countries=['NL'])\n",
        "    #return desired fields\n",
        "    #print(json.dumps(profile, indent=4))\n",
        "    #save results as json file\n",
        "    with open('data.json', 'w', encoding='utf-8') as f:\n",
        "        json.dump(profile, f, ensure_ascii=False, indent=4)\n",
        "\n",
        "if __name__ == '__main__':\n",
        "    main()\n",
        "    \n",
        "results = json.load(open('data.json'))\n",
        "df = pd.DataFrame(results[\"data\"])\n",
        "df.to_csv('data.csv')"
      ],
      "outputs": [],
      "execution_count": 89,
      "metadata": {}
    },
    {
      "cell_type": "code",
      "source": [
        "# Transform to ads table\n",
        "\n",
        "df_ads = pd.DataFrame(results[\"data\"])\n",
        "df_ads = df_ads[['id','ad_creative_body','ad_snapshot_url','page_name','page_id']]\n",
        "\n",
        "matrix = []\n",
        "data = results[\"data\"]\n",
        "for i in range(len(data)):\n",
        "    ids = data[i]['id']\n",
        "    reg_dist = data[i]['region_distribution']\n",
        "    for r in range(len(reg_dist)):\n",
        "        perc = reg_dist[r]['percentage']\n",
        "        reg = reg_dist[r]['region']\n",
        "        matrix.append((ids,perc, reg))\n",
        "df_reg_dist = pd.DataFrame(matrix).rename(columns={0:'id',1:'perc_region',2:'region'})\n",
        "\n",
        "matrix = []\n",
        "data = results[\"data\"]\n",
        "for i in range(len(data)):\n",
        "    ids = data[i]['id']\n",
        "    dem_dist = data[i]['demographic_distribution']\n",
        "    for r in range(len(dem_dist)):\n",
        "        perc = dem_dist[r]['percentage']\n",
        "        age = dem_dist[r]['age']\n",
        "        gen = dem_dist[r]['gender']\n",
        "        matrix.append((ids, perc, age, gen))\n",
        "df_dem_dist = pd.DataFrame(matrix).rename(columns={0:'id',1:'perc_demographic',2:'age',3:'gender'})\n",
        "\n",
        "df_reg_dist = df_reg_dist.merge(df_ads, on='id',how='left')\n",
        "df_reg_dist['perc_region'] = df_reg_dist['perc_region'].apply(float)\n",
        "df_dem_dist = df_dem_dist.merge(df_ads, on='id',how='left')\n",
        "df_dem_dist['perc_demographic'] = df_dem_dist['perc_demographic'].apply(float)"
      ],
      "outputs": [],
      "execution_count": 90,
      "metadata": {}
    },
    {
      "cell_type": "code",
      "source": [
        "df_reg_dist.groupby('id').count()"
      ],
      "outputs": [
        {
          "output_type": "execute_result",
          "execution_count": 91,
          "data": {
            "text/html": "<div>\n<style scoped>\n    .dataframe tbody tr th:only-of-type {\n        vertical-align: middle;\n    }\n\n    .dataframe tbody tr th {\n        vertical-align: top;\n    }\n\n    .dataframe thead th {\n        text-align: right;\n    }\n</style>\n<table border=\"1\" class=\"dataframe\">\n  <thead>\n    <tr style=\"text-align: right;\">\n      <th></th>\n      <th>perc_region</th>\n      <th>region</th>\n      <th>ad_creative_body</th>\n      <th>ad_snapshot_url</th>\n      <th>page_name</th>\n      <th>page_id</th>\n    </tr>\n    <tr>\n      <th>id</th>\n      <th></th>\n      <th></th>\n      <th></th>\n      <th></th>\n      <th></th>\n      <th></th>\n    </tr>\n  </thead>\n  <tbody>\n    <tr>\n      <th>1023754321480469</th>\n      <td>1</td>\n      <td>1</td>\n      <td>1</td>\n      <td>1</td>\n      <td>1</td>\n      <td>1</td>\n    </tr>\n    <tr>\n      <th>1034254717099339</th>\n      <td>12</td>\n      <td>12</td>\n      <td>12</td>\n      <td>12</td>\n      <td>12</td>\n      <td>12</td>\n    </tr>\n    <tr>\n      <th>175689150744699</th>\n      <td>1</td>\n      <td>1</td>\n      <td>1</td>\n      <td>1</td>\n      <td>1</td>\n      <td>1</td>\n    </tr>\n    <tr>\n      <th>1865817646933817</th>\n      <td>12</td>\n      <td>12</td>\n      <td>12</td>\n      <td>12</td>\n      <td>12</td>\n      <td>12</td>\n    </tr>\n    <tr>\n      <th>217052436841392</th>\n      <td>12</td>\n      <td>12</td>\n      <td>12</td>\n      <td>12</td>\n      <td>12</td>\n      <td>12</td>\n    </tr>\n    <tr>\n      <th>348735506562218</th>\n      <td>12</td>\n      <td>12</td>\n      <td>12</td>\n      <td>12</td>\n      <td>12</td>\n      <td>12</td>\n    </tr>\n    <tr>\n      <th>3740557662648493</th>\n      <td>12</td>\n      <td>12</td>\n      <td>12</td>\n      <td>12</td>\n      <td>12</td>\n      <td>12</td>\n    </tr>\n    <tr>\n      <th>422025382390044</th>\n      <td>12</td>\n      <td>12</td>\n      <td>12</td>\n      <td>12</td>\n      <td>12</td>\n      <td>12</td>\n    </tr>\n    <tr>\n      <th>780399602577376</th>\n      <td>12</td>\n      <td>12</td>\n      <td>12</td>\n      <td>12</td>\n      <td>12</td>\n      <td>12</td>\n    </tr>\n  </tbody>\n</table>\n</div>",
            "text/plain": "                  perc_region  region  ad_creative_body  ad_snapshot_url  \\\nid                                                                         \n1023754321480469            1       1                 1                1   \n1034254717099339           12      12                12               12   \n175689150744699             1       1                 1                1   \n1865817646933817           12      12                12               12   \n217052436841392            12      12                12               12   \n348735506562218            12      12                12               12   \n3740557662648493           12      12                12               12   \n422025382390044            12      12                12               12   \n780399602577376            12      12                12               12   \n\n                  page_name  page_id  \nid                                    \n1023754321480469          1        1  \n1034254717099339         12       12  \n175689150744699           1        1  \n1865817646933817         12       12  \n217052436841392          12       12  \n348735506562218          12       12  \n3740557662648493         12       12  \n422025382390044          12       12  \n780399602577376          12       12  "
          },
          "metadata": {}
        }
      ],
      "execution_count": 91,
      "metadata": {}
    },
    {
      "cell_type": "code",
      "source": [
        "df_reg_dist[df_reg_dist['id'] == '175689150744699']"
      ],
      "outputs": [
        {
          "output_type": "execute_result",
          "execution_count": 92,
          "data": {
            "text/html": "<div>\n<style scoped>\n    .dataframe tbody tr th:only-of-type {\n        vertical-align: middle;\n    }\n\n    .dataframe tbody tr th {\n        vertical-align: top;\n    }\n\n    .dataframe thead th {\n        text-align: right;\n    }\n</style>\n<table border=\"1\" class=\"dataframe\">\n  <thead>\n    <tr style=\"text-align: right;\">\n      <th></th>\n      <th>id</th>\n      <th>perc_region</th>\n      <th>region</th>\n      <th>ad_creative_body</th>\n      <th>ad_snapshot_url</th>\n      <th>page_name</th>\n      <th>page_id</th>\n    </tr>\n  </thead>\n  <tbody>\n    <tr>\n      <th>61</th>\n      <td>175689150744699</td>\n      <td>1.0</td>\n      <td>Zuid-Holland</td>\n      <td>Het klimaatakkoord van Parijs is een opdracht,...</td>\n      <td>https://www.facebook.com/ads/archive/render_ad...</td>\n      <td>CDA</td>\n      <td>320374518118</td>\n    </tr>\n  </tbody>\n</table>\n</div>",
            "text/plain": "                 id  perc_region        region  \\\n61  175689150744699          1.0  Zuid-Holland   \n\n                                     ad_creative_body  \\\n61  Het klimaatakkoord van Parijs is een opdracht,...   \n\n                                      ad_snapshot_url page_name       page_id  \n61  https://www.facebook.com/ads/archive/render_ad...       CDA  320374518118  "
          },
          "metadata": {}
        }
      ],
      "execution_count": 92,
      "metadata": {}
    },
    {
      "cell_type": "code",
      "source": [
        "df_reg_dist[df_reg_dist['id'] == '1034254717099339'].sort_values('perc_region',ascending = False)"
      ],
      "outputs": [
        {
          "output_type": "execute_result",
          "execution_count": 78,
          "data": {
            "text/html": "<div>\n<style scoped>\n    .dataframe tbody tr th:only-of-type {\n        vertical-align: middle;\n    }\n\n    .dataframe tbody tr th {\n        vertical-align: top;\n    }\n\n    .dataframe thead th {\n        text-align: right;\n    }\n</style>\n<table border=\"1\" class=\"dataframe\">\n  <thead>\n    <tr style=\"text-align: right;\">\n      <th></th>\n      <th>id</th>\n      <th>perc_region</th>\n      <th>region</th>\n      <th>ad_creative_body</th>\n      <th>ad_snapshot_url</th>\n      <th>page_name</th>\n      <th>page_id</th>\n    </tr>\n  </thead>\n  <tbody>\n    <tr>\n      <th>63</th>\n      <td>1034254717099339</td>\n      <td>0.264574</td>\n      <td>Noord-Holland</td>\n      <td>💡 Wij willen kernenergie! Want het klimaat is ...</td>\n      <td>https://www.facebook.com/ads/archive/render_ad...</td>\n      <td>VVD</td>\n      <td>121264564551002</td>\n    </tr>\n    <tr>\n      <th>66</th>\n      <td>1034254717099339</td>\n      <td>0.251121</td>\n      <td>Zuid-Holland</td>\n      <td>💡 Wij willen kernenergie! Want het klimaat is ...</td>\n      <td>https://www.facebook.com/ads/archive/render_ad...</td>\n      <td>VVD</td>\n      <td>121264564551002</td>\n    </tr>\n    <tr>\n      <th>68</th>\n      <td>1034254717099339</td>\n      <td>0.103139</td>\n      <td>Gelderland</td>\n      <td>💡 Wij willen kernenergie! Want het klimaat is ...</td>\n      <td>https://www.facebook.com/ads/archive/render_ad...</td>\n      <td>VVD</td>\n      <td>121264564551002</td>\n    </tr>\n    <tr>\n      <th>70</th>\n      <td>1034254717099339</td>\n      <td>0.103139</td>\n      <td>North Brabant</td>\n      <td>💡 Wij willen kernenergie! Want het klimaat is ...</td>\n      <td>https://www.facebook.com/ads/archive/render_ad...</td>\n      <td>VVD</td>\n      <td>121264564551002</td>\n    </tr>\n    <tr>\n      <th>64</th>\n      <td>1034254717099339</td>\n      <td>0.071749</td>\n      <td>Utrecht</td>\n      <td>💡 Wij willen kernenergie! Want het klimaat is ...</td>\n      <td>https://www.facebook.com/ads/archive/render_ad...</td>\n      <td>VVD</td>\n      <td>121264564551002</td>\n    </tr>\n    <tr>\n      <th>69</th>\n      <td>1034254717099339</td>\n      <td>0.049327</td>\n      <td>Groningen</td>\n      <td>💡 Wij willen kernenergie! Want het klimaat is ...</td>\n      <td>https://www.facebook.com/ads/archive/render_ad...</td>\n      <td>VVD</td>\n      <td>121264564551002</td>\n    </tr>\n    <tr>\n      <th>71</th>\n      <td>1034254717099339</td>\n      <td>0.049327</td>\n      <td>Overijssel</td>\n      <td>💡 Wij willen kernenergie! Want het klimaat is ...</td>\n      <td>https://www.facebook.com/ads/archive/render_ad...</td>\n      <td>VVD</td>\n      <td>121264564551002</td>\n    </tr>\n    <tr>\n      <th>61</th>\n      <td>1034254717099339</td>\n      <td>0.040359</td>\n      <td>Drenthe</td>\n      <td>💡 Wij willen kernenergie! Want het klimaat is ...</td>\n      <td>https://www.facebook.com/ads/archive/render_ad...</td>\n      <td>VVD</td>\n      <td>121264564551002</td>\n    </tr>\n    <tr>\n      <th>67</th>\n      <td>1034254717099339</td>\n      <td>0.026906</td>\n      <td>Flevoland</td>\n      <td>💡 Wij willen kernenergie! Want het klimaat is ...</td>\n      <td>https://www.facebook.com/ads/archive/render_ad...</td>\n      <td>VVD</td>\n      <td>121264564551002</td>\n    </tr>\n    <tr>\n      <th>62</th>\n      <td>1034254717099339</td>\n      <td>0.022422</td>\n      <td>Limburg</td>\n      <td>💡 Wij willen kernenergie! Want het klimaat is ...</td>\n      <td>https://www.facebook.com/ads/archive/render_ad...</td>\n      <td>VVD</td>\n      <td>121264564551002</td>\n    </tr>\n    <tr>\n      <th>60</th>\n      <td>1034254717099339</td>\n      <td>0.013453</td>\n      <td>Friesland</td>\n      <td>💡 Wij willen kernenergie! Want het klimaat is ...</td>\n      <td>https://www.facebook.com/ads/archive/render_ad...</td>\n      <td>VVD</td>\n      <td>121264564551002</td>\n    </tr>\n    <tr>\n      <th>65</th>\n      <td>1034254717099339</td>\n      <td>0.004484</td>\n      <td>Zeeland</td>\n      <td>💡 Wij willen kernenergie! Want het klimaat is ...</td>\n      <td>https://www.facebook.com/ads/archive/render_ad...</td>\n      <td>VVD</td>\n      <td>121264564551002</td>\n    </tr>\n  </tbody>\n</table>\n</div>",
            "text/plain": "                  id  perc_region         region  \\\n63  1034254717099339     0.264574  Noord-Holland   \n66  1034254717099339     0.251121   Zuid-Holland   \n68  1034254717099339     0.103139     Gelderland   \n70  1034254717099339     0.103139  North Brabant   \n64  1034254717099339     0.071749        Utrecht   \n69  1034254717099339     0.049327      Groningen   \n71  1034254717099339     0.049327     Overijssel   \n61  1034254717099339     0.040359        Drenthe   \n67  1034254717099339     0.026906      Flevoland   \n62  1034254717099339     0.022422        Limburg   \n60  1034254717099339     0.013453      Friesland   \n65  1034254717099339     0.004484        Zeeland   \n\n                                     ad_creative_body  \\\n63  💡 Wij willen kernenergie! Want het klimaat is ...   \n66  💡 Wij willen kernenergie! Want het klimaat is ...   \n68  💡 Wij willen kernenergie! Want het klimaat is ...   \n70  💡 Wij willen kernenergie! Want het klimaat is ...   \n64  💡 Wij willen kernenergie! Want het klimaat is ...   \n69  💡 Wij willen kernenergie! Want het klimaat is ...   \n71  💡 Wij willen kernenergie! Want het klimaat is ...   \n61  💡 Wij willen kernenergie! Want het klimaat is ...   \n67  💡 Wij willen kernenergie! Want het klimaat is ...   \n62  💡 Wij willen kernenergie! Want het klimaat is ...   \n60  💡 Wij willen kernenergie! Want het klimaat is ...   \n65  💡 Wij willen kernenergie! Want het klimaat is ...   \n\n                                      ad_snapshot_url page_name  \\\n63  https://www.facebook.com/ads/archive/render_ad...       VVD   \n66  https://www.facebook.com/ads/archive/render_ad...       VVD   \n68  https://www.facebook.com/ads/archive/render_ad...       VVD   \n70  https://www.facebook.com/ads/archive/render_ad...       VVD   \n64  https://www.facebook.com/ads/archive/render_ad...       VVD   \n69  https://www.facebook.com/ads/archive/render_ad...       VVD   \n71  https://www.facebook.com/ads/archive/render_ad...       VVD   \n61  https://www.facebook.com/ads/archive/render_ad...       VVD   \n67  https://www.facebook.com/ads/archive/render_ad...       VVD   \n62  https://www.facebook.com/ads/archive/render_ad...       VVD   \n60  https://www.facebook.com/ads/archive/render_ad...       VVD   \n65  https://www.facebook.com/ads/archive/render_ad...       VVD   \n\n            page_id  \n63  121264564551002  \n66  121264564551002  \n68  121264564551002  \n70  121264564551002  \n64  121264564551002  \n69  121264564551002  \n71  121264564551002  \n61  121264564551002  \n67  121264564551002  \n62  121264564551002  \n60  121264564551002  \n65  121264564551002  "
          },
          "metadata": {}
        }
      ],
      "execution_count": 78,
      "metadata": {}
    },
    {
      "cell_type": "code",
      "source": [
        "df_dem_dist[df_dem_dist['id'] == '1034254717099339'].sort_values('perc_demographic',ascending = False)"
      ],
      "outputs": [
        {
          "output_type": "execute_result",
          "execution_count": 81,
          "data": {
            "text/html": "<div>\n<style scoped>\n    .dataframe tbody tr th:only-of-type {\n        vertical-align: middle;\n    }\n\n    .dataframe tbody tr th {\n        vertical-align: top;\n    }\n\n    .dataframe thead th {\n        text-align: right;\n    }\n</style>\n<table border=\"1\" class=\"dataframe\">\n  <thead>\n    <tr style=\"text-align: right;\">\n      <th></th>\n      <th>id</th>\n      <th>perc_demographic</th>\n      <th>age</th>\n      <th>gender</th>\n      <th>ad_creative_body</th>\n      <th>ad_snapshot_url</th>\n      <th>page_name</th>\n      <th>page_id</th>\n    </tr>\n  </thead>\n  <tbody>\n    <tr>\n      <th>74</th>\n      <td>1034254717099339</td>\n      <td>0.130045</td>\n      <td>25-34</td>\n      <td>female</td>\n      <td>💡 Wij willen kernenergie! Want het klimaat is ...</td>\n      <td>https://www.facebook.com/ads/archive/render_ad...</td>\n      <td>VVD</td>\n      <td>121264564551002</td>\n    </tr>\n    <tr>\n      <th>73</th>\n      <td>1034254717099339</td>\n      <td>0.121076</td>\n      <td>35-44</td>\n      <td>male</td>\n      <td>💡 Wij willen kernenergie! Want het klimaat is ...</td>\n      <td>https://www.facebook.com/ads/archive/render_ad...</td>\n      <td>VVD</td>\n      <td>121264564551002</td>\n    </tr>\n    <tr>\n      <th>82</th>\n      <td>1034254717099339</td>\n      <td>0.121076</td>\n      <td>25-34</td>\n      <td>male</td>\n      <td>💡 Wij willen kernenergie! Want het klimaat is ...</td>\n      <td>https://www.facebook.com/ads/archive/render_ad...</td>\n      <td>VVD</td>\n      <td>121264564551002</td>\n    </tr>\n    <tr>\n      <th>75</th>\n      <td>1034254717099339</td>\n      <td>0.103139</td>\n      <td>35-44</td>\n      <td>female</td>\n      <td>💡 Wij willen kernenergie! Want het klimaat is ...</td>\n      <td>https://www.facebook.com/ads/archive/render_ad...</td>\n      <td>VVD</td>\n      <td>121264564551002</td>\n    </tr>\n    <tr>\n      <th>78</th>\n      <td>1034254717099339</td>\n      <td>0.089686</td>\n      <td>45-54</td>\n      <td>male</td>\n      <td>💡 Wij willen kernenergie! Want het klimaat is ...</td>\n      <td>https://www.facebook.com/ads/archive/render_ad...</td>\n      <td>VVD</td>\n      <td>121264564551002</td>\n    </tr>\n    <tr>\n      <th>71</th>\n      <td>1034254717099339</td>\n      <td>0.080717</td>\n      <td>18-24</td>\n      <td>female</td>\n      <td>💡 Wij willen kernenergie! Want het klimaat is ...</td>\n      <td>https://www.facebook.com/ads/archive/render_ad...</td>\n      <td>VVD</td>\n      <td>121264564551002</td>\n    </tr>\n    <tr>\n      <th>77</th>\n      <td>1034254717099339</td>\n      <td>0.080717</td>\n      <td>45-54</td>\n      <td>female</td>\n      <td>💡 Wij willen kernenergie! Want het klimaat is ...</td>\n      <td>https://www.facebook.com/ads/archive/render_ad...</td>\n      <td>VVD</td>\n      <td>121264564551002</td>\n    </tr>\n    <tr>\n      <th>83</th>\n      <td>1034254717099339</td>\n      <td>0.080717</td>\n      <td>55-64</td>\n      <td>male</td>\n      <td>💡 Wij willen kernenergie! Want het klimaat is ...</td>\n      <td>https://www.facebook.com/ads/archive/render_ad...</td>\n      <td>VVD</td>\n      <td>121264564551002</td>\n    </tr>\n    <tr>\n      <th>79</th>\n      <td>1034254717099339</td>\n      <td>0.071749</td>\n      <td>18-24</td>\n      <td>male</td>\n      <td>💡 Wij willen kernenergie! Want het klimaat is ...</td>\n      <td>https://www.facebook.com/ads/archive/render_ad...</td>\n      <td>VVD</td>\n      <td>121264564551002</td>\n    </tr>\n    <tr>\n      <th>81</th>\n      <td>1034254717099339</td>\n      <td>0.058296</td>\n      <td>55-64</td>\n      <td>female</td>\n      <td>💡 Wij willen kernenergie! Want het klimaat is ...</td>\n      <td>https://www.facebook.com/ads/archive/render_ad...</td>\n      <td>VVD</td>\n      <td>121264564551002</td>\n    </tr>\n    <tr>\n      <th>76</th>\n      <td>1034254717099339</td>\n      <td>0.035874</td>\n      <td>65+</td>\n      <td>male</td>\n      <td>💡 Wij willen kernenergie! Want het klimaat is ...</td>\n      <td>https://www.facebook.com/ads/archive/render_ad...</td>\n      <td>VVD</td>\n      <td>121264564551002</td>\n    </tr>\n    <tr>\n      <th>80</th>\n      <td>1034254717099339</td>\n      <td>0.022422</td>\n      <td>65+</td>\n      <td>female</td>\n      <td>💡 Wij willen kernenergie! Want het klimaat is ...</td>\n      <td>https://www.facebook.com/ads/archive/render_ad...</td>\n      <td>VVD</td>\n      <td>121264564551002</td>\n    </tr>\n    <tr>\n      <th>72</th>\n      <td>1034254717099339</td>\n      <td>0.004484</td>\n      <td>45-54</td>\n      <td>unknown</td>\n      <td>💡 Wij willen kernenergie! Want het klimaat is ...</td>\n      <td>https://www.facebook.com/ads/archive/render_ad...</td>\n      <td>VVD</td>\n      <td>121264564551002</td>\n    </tr>\n  </tbody>\n</table>\n</div>",
            "text/plain": "                  id  perc_demographic    age   gender  \\\n74  1034254717099339          0.130045  25-34   female   \n73  1034254717099339          0.121076  35-44     male   \n82  1034254717099339          0.121076  25-34     male   \n75  1034254717099339          0.103139  35-44   female   \n78  1034254717099339          0.089686  45-54     male   \n71  1034254717099339          0.080717  18-24   female   \n77  1034254717099339          0.080717  45-54   female   \n83  1034254717099339          0.080717  55-64     male   \n79  1034254717099339          0.071749  18-24     male   \n81  1034254717099339          0.058296  55-64   female   \n76  1034254717099339          0.035874    65+     male   \n80  1034254717099339          0.022422    65+   female   \n72  1034254717099339          0.004484  45-54  unknown   \n\n                                     ad_creative_body  \\\n74  💡 Wij willen kernenergie! Want het klimaat is ...   \n73  💡 Wij willen kernenergie! Want het klimaat is ...   \n82  💡 Wij willen kernenergie! Want het klimaat is ...   \n75  💡 Wij willen kernenergie! Want het klimaat is ...   \n78  💡 Wij willen kernenergie! Want het klimaat is ...   \n71  💡 Wij willen kernenergie! Want het klimaat is ...   \n77  💡 Wij willen kernenergie! Want het klimaat is ...   \n83  💡 Wij willen kernenergie! Want het klimaat is ...   \n79  💡 Wij willen kernenergie! Want het klimaat is ...   \n81  💡 Wij willen kernenergie! Want het klimaat is ...   \n76  💡 Wij willen kernenergie! Want het klimaat is ...   \n80  💡 Wij willen kernenergie! Want het klimaat is ...   \n72  💡 Wij willen kernenergie! Want het klimaat is ...   \n\n                                      ad_snapshot_url page_name  \\\n74  https://www.facebook.com/ads/archive/render_ad...       VVD   \n73  https://www.facebook.com/ads/archive/render_ad...       VVD   \n82  https://www.facebook.com/ads/archive/render_ad...       VVD   \n75  https://www.facebook.com/ads/archive/render_ad...       VVD   \n78  https://www.facebook.com/ads/archive/render_ad...       VVD   \n71  https://www.facebook.com/ads/archive/render_ad...       VVD   \n77  https://www.facebook.com/ads/archive/render_ad...       VVD   \n83  https://www.facebook.com/ads/archive/render_ad...       VVD   \n79  https://www.facebook.com/ads/archive/render_ad...       VVD   \n81  https://www.facebook.com/ads/archive/render_ad...       VVD   \n76  https://www.facebook.com/ads/archive/render_ad...       VVD   \n80  https://www.facebook.com/ads/archive/render_ad...       VVD   \n72  https://www.facebook.com/ads/archive/render_ad...       VVD   \n\n            page_id  \n74  121264564551002  \n73  121264564551002  \n82  121264564551002  \n75  121264564551002  \n78  121264564551002  \n71  121264564551002  \n77  121264564551002  \n83  121264564551002  \n79  121264564551002  \n81  121264564551002  \n76  121264564551002  \n80  121264564551002  \n72  121264564551002  "
          },
          "metadata": {}
        }
      ],
      "execution_count": 81,
      "metadata": {}
    },
    {
      "cell_type": "code",
      "source": [],
      "outputs": [],
      "execution_count": null,
      "metadata": {}
    }
  ],
  "metadata": {
    "kernelspec": {
      "display_name": "Python 3",
      "language": "python",
      "name": "python3"
    },
    "language_info": {
      "codemirror_mode": {
        "name": "ipython",
        "version": 3
      },
      "file_extension": ".py",
      "mimetype": "text/x-python",
      "name": "python",
      "nbconvert_exporter": "python",
      "pygments_lexer": "ipython3",
      "version": "3.7.6"
    },
    "nteract": {
      "version": "0.28.0"
    }
  },
  "nbformat": 4,
  "nbformat_minor": 4
}