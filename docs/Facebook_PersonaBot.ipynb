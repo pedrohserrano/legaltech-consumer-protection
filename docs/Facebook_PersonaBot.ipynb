{
 "cells": [
  {
   "cell_type": "markdown",
   "metadata": {},
   "source": [
    "# Facebook PersonaBot"
   ]
  },
  {
   "cell_type": "markdown",
   "metadata": {},
   "source": [
    "This section is on the making"
   ]
  }
 ],
 "metadata": {
  "interpreter": {
   "hash": "3feb499b15432f9980db280f430fb4b54670c5cbb8e4c5f645405b3e58d5facb"
  },
  "kernelspec": {
   "display_name": "Python 3.8.8 64-bit ('base': conda)",
   "name": "python3"
  },
  "language_info": {
   "name": "python",
   "version": ""
  },
  "orig_nbformat": 2
 },
 "nbformat": 4,
 "nbformat_minor": 2
}